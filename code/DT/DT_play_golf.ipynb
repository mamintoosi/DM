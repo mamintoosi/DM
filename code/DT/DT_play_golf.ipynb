{
 "cells": [
  {
   "source": [
    "\"\"\"\n",
    "====================================================================\n",
    "Decision trees on the play-golf dataset\n",
    "====================================================================\n",
    "Mahmood Amintoosi\n",
    "\n",
    "\"\"\""
   ],
   "cell_type": "markdown",
   "metadata": {}
  },
  {
   "cell_type": "code",
   "execution_count": 1,
   "metadata": {},
   "outputs": [
    {
     "output_type": "stream",
     "name": "stdout",
     "text": [
      "Automatically created module for IPython interactive environment\n"
     ]
    }
   ],
   "source": [
    "\n",
    "print(__doc__)\n",
    "\n",
    "import numpy as np\n",
    "import matplotlib.pyplot as plt\n",
    "\n",
    "import pandas as pd"
   ]
  },
  {
   "cell_type": "code",
   "execution_count": 23,
   "metadata": {},
   "outputs": [],
   "source": [
    "df = pd.read_csv('../dataset/playgolf.csv')"
   ]
  },
  {
   "cell_type": "code",
   "execution_count": 24,
   "metadata": {},
   "outputs": [
    {
     "output_type": "stream",
     "name": "stdout",
     "text": [
      "     Outlook  Temp Humidity  Windy Play Golf\n0      Rainy   Hot     High  False        No\n1      Rainy   Hot     High   True        No\n2   Overcast   Hot     High  False       Yes\n3      Sunny  Mild     High  False       Yes\n4      Sunny  Cool   Normal  False       Yes\n5      Sunny  Cool   Normal   True        No\n6   Overcast  Cool   Normal   True       Yes\n7      Rainy  Mild     High  False        No\n8      Rainy  Cool   Normal  False       Yes\n9      Sunny  Mild   Normal  False       Yes\n10     Rainy  Mild   Normal   True       Yes\n11  Overcast  Mild     High   True       Yes\n12  Overcast   Hot   Normal  False       Yes\n13     Sunny  Mild     High   True        No\n"
     ]
    }
   ],
   "source": [
    "print(df)"
   ]
  },
  {
   "cell_type": "code",
   "execution_count": 25,
   "metadata": {},
   "outputs": [
    {
     "output_type": "stream",
     "name": "stdout",
     "text": [
      "<class 'pandas.core.series.Series'> 14\n0.6428571428571429 0.35714285714285715\n"
     ]
    }
   ],
   "source": [
    "# data['Play Golf']\n",
    "S = df['Play Golf']\n",
    "print(type(S),len(S))\n",
    "p1 = sum(S=='Yes')/len(S)\n",
    "p2 = sum(S!='Yes')/len(S)\n",
    "print(p1,p2)"
   ]
  },
  {
   "cell_type": "code",
   "execution_count": 26,
   "metadata": {},
   "outputs": [
    {
     "output_type": "stream",
     "name": "stdout",
     "text": [
      "0.9402859586706311\n"
     ]
    }
   ],
   "source": [
    "E = -p1*np.log2(p1) - p2*np.log2(p2)\n",
    "print(E)"
   ]
  },
  {
   "cell_type": "code",
   "execution_count": 27,
   "metadata": {},
   "outputs": [],
   "source": [
    "def entropy(x):\n",
    "    p1 = sum(x=='Yes')/len(x)\n",
    "    p2 = sum(x!='Yes')/len(x)\n",
    "    E = -p1*np.log2(p1) - p2*np.log2(p2)\n",
    "    return E"
   ]
  },
  {
   "cell_type": "code",
   "execution_count": 17,
   "metadata": {},
   "outputs": [
    {
     "output_type": "stream",
     "name": "stdout",
     "text": [
      "0.9402859586706311\n"
     ]
    }
   ],
   "source": [
    "print(entropy(S))"
   ]
  },
  {
   "cell_type": "code",
   "execution_count": 36,
   "metadata": {},
   "outputs": [
    {
     "output_type": "execute_result",
     "data": {
      "text/plain": [
       "0.9709505944546686"
      ]
     },
     "metadata": {},
     "execution_count": 36
    }
   ],
   "source": [
    "entropy(df[df['Outlook']=='Rainy']['Play Golf'])"
   ]
  },
  {
   "cell_type": "code",
   "execution_count": 37,
   "metadata": {},
   "outputs": [
    {
     "output_type": "execute_result",
     "data": {
      "text/plain": [
       "nan"
      ]
     },
     "metadata": {},
     "execution_count": 37
    }
   ],
   "source": [
    "entropy(df[df['Outlook']=='Overcast']['Play Golf'])"
   ]
  },
  {
   "cell_type": "code",
   "execution_count": 41,
   "metadata": {},
   "outputs": [
    {
     "output_type": "execute_result",
     "data": {
      "text/plain": [
       "0"
      ]
     },
     "metadata": {},
     "execution_count": 41
    }
   ],
   "source": [
    "p1 = 0\n",
    "log2_p1 = 0 if np.isinf(np.log2(p1)) else  np.log2(p1)\n",
    "log2_p1"
   ]
  },
  {
   "cell_type": "code",
   "execution_count": 28,
   "metadata": {},
   "outputs": [
    {
     "output_type": "execute_result",
     "data": {
      "text/plain": [
       "0        Rainy\n",
       "1        Rainy\n",
       "2     Overcast\n",
       "3        Sunny\n",
       "4        Sunny\n",
       "5        Sunny\n",
       "6     Overcast\n",
       "7        Rainy\n",
       "8        Rainy\n",
       "9        Sunny\n",
       "10       Rainy\n",
       "11    Overcast\n",
       "12    Overcast\n",
       "13       Sunny\n",
       "Name: Outlook, dtype: object"
      ]
     },
     "metadata": {},
     "execution_count": 28
    }
   ],
   "source": [
    "df['Outlook']"
   ]
  },
  {
   "cell_type": "code",
   "execution_count": 31,
   "metadata": {},
   "outputs": [
    {
     "output_type": "execute_result",
     "data": {
      "text/plain": [
       "   Outlook  Temp Humidity  Windy Play Golf\n",
       "3    Sunny  Mild     High  False       Yes\n",
       "4    Sunny  Cool   Normal  False       Yes\n",
       "5    Sunny  Cool   Normal   True        No\n",
       "9    Sunny  Mild   Normal  False       Yes\n",
       "13   Sunny  Mild     High   True        No"
      ],
      "text/html": "<div>\n<style scoped>\n    .dataframe tbody tr th:only-of-type {\n        vertical-align: middle;\n    }\n\n    .dataframe tbody tr th {\n        vertical-align: top;\n    }\n\n    .dataframe thead th {\n        text-align: right;\n    }\n</style>\n<table border=\"1\" class=\"dataframe\">\n  <thead>\n    <tr style=\"text-align: right;\">\n      <th></th>\n      <th>Outlook</th>\n      <th>Temp</th>\n      <th>Humidity</th>\n      <th>Windy</th>\n      <th>Play Golf</th>\n    </tr>\n  </thead>\n  <tbody>\n    <tr>\n      <th>3</th>\n      <td>Sunny</td>\n      <td>Mild</td>\n      <td>High</td>\n      <td>False</td>\n      <td>Yes</td>\n    </tr>\n    <tr>\n      <th>4</th>\n      <td>Sunny</td>\n      <td>Cool</td>\n      <td>Normal</td>\n      <td>False</td>\n      <td>Yes</td>\n    </tr>\n    <tr>\n      <th>5</th>\n      <td>Sunny</td>\n      <td>Cool</td>\n      <td>Normal</td>\n      <td>True</td>\n      <td>No</td>\n    </tr>\n    <tr>\n      <th>9</th>\n      <td>Sunny</td>\n      <td>Mild</td>\n      <td>Normal</td>\n      <td>False</td>\n      <td>Yes</td>\n    </tr>\n    <tr>\n      <th>13</th>\n      <td>Sunny</td>\n      <td>Mild</td>\n      <td>High</td>\n      <td>True</td>\n      <td>No</td>\n    </tr>\n  </tbody>\n</table>\n</div>"
     },
     "metadata": {},
     "execution_count": 31
    }
   ],
   "source": [
    "df[df['Outlook']=='Sunny']"
   ]
  },
  {
   "cell_type": "code",
   "execution_count": 33,
   "metadata": {},
   "outputs": [],
   "source": [
    "S = df[df['Outlook']=='Sunny']['Play Golf']"
   ]
  },
  {
   "cell_type": "code",
   "execution_count": 34,
   "metadata": {},
   "outputs": [
    {
     "output_type": "execute_result",
     "data": {
      "text/plain": [
       "0.9709505944546686"
      ]
     },
     "metadata": {},
     "execution_count": 34
    }
   ],
   "source": [
    "entropy(S)"
   ]
  }
 ],
 "metadata": {
  "kernelspec": {
   "display_name": "Python 3",
   "language": "python",
   "name": "python3"
  },
  "language_info": {
   "codemirror_mode": {
    "name": "ipython",
    "version": 3
   },
   "file_extension": ".py",
   "mimetype": "text/x-python",
   "name": "python",
   "nbconvert_exporter": "python",
   "pygments_lexer": "ipython3",
   "version": "3.6.10-final"
  }
 },
 "nbformat": 4,
 "nbformat_minor": 2
}