{
  "nbformat": 4,
  "nbformat_minor": 0,
  "metadata": {
    "colab": {
      "provenance": []
    },
    "kernelspec": {
      "name": "python3",
      "display_name": "Python 3"
    },
    "language_info": {
      "name": "python"
    }
  },
  "cells": [
    {
      "cell_type": "markdown",
      "source": [
        "\n",
        "M. Amintoosi\n",
        "<div align=\"right\" dir=\"rtl\">\n",
        "برنامه‌ی تولید تمام مولکول‌های با طول\n",
        "n\n",
        "متشکل از\n",
        "k\n",
        "ایزوتوپ یک عنصر خاص\n",
        "</div>\n"
      ],
      "metadata": {
        "id": "aUl406rqTztU"
      }
    },
    {
      "cell_type": "code",
      "source": [
        "def print_table(n, k):\n",
        "    # n: The length of our string, مولکول‌ها چندتایی می‌خوان باشن؟\n",
        "    # k: number of isotops, تعداد ایزوتوپ‌ها\n",
        "    table = []\n",
        "    for i in range(k**n):\n",
        "        base_k = base_convert(i, k).zfill(n)\n",
        "        values = [str(int(b)) for b in base_k]\n",
        "        found = False\n",
        "        for row in table:\n",
        "            if values == row[::-1]:\n",
        "                found = True\n",
        "                break\n",
        "        if not found:\n",
        "            table.append(values)\n",
        "    return table\n",
        "\n",
        "def base_convert(number, base):\n",
        "    if number < base:\n",
        "        return str(number)\n",
        "    else:\n",
        "        return base_convert(number // base, base) + str(number % base)"
      ],
      "metadata": {
        "id": "YvtP4LNgT0Nm"
      },
      "execution_count": 1,
      "outputs": []
    },
    {
      "cell_type": "code",
      "source": [
        "# برای مثال هیدروژن:\n",
        "t = print_table(2,3)\n",
        "print('Number of rows: ', len(t))\n",
        "for row in t:\n",
        "    print(\" \".join(str(v) for v in row))"
      ],
      "metadata": {
        "colab": {
          "base_uri": "https://localhost:8080/"
        },
        "id": "8xFXQ9-_Uijt",
        "outputId": "a215b1c0-9f5e-423f-9c03-239fc1e90c3a"
      },
      "execution_count": 2,
      "outputs": [
        {
          "output_type": "stream",
          "name": "stdout",
          "text": [
            "Number of rows:  6\n",
            "0 0\n",
            "0 1\n",
            "0 2\n",
            "1 1\n",
            "1 2\n",
            "2 2\n"
          ]
        }
      ]
    },
    {
      "cell_type": "code",
      "source": [
        "# برای مثال اکسیژن\n",
        "t = print_table(3,3)\n",
        "print('Number of rows: ', len(t))\n",
        "for row in t:\n",
        "    print(\" \".join(str(v) for v in row))"
      ],
      "metadata": {
        "colab": {
          "base_uri": "https://localhost:8080/"
        },
        "id": "TSJ5jZ-rUlSZ",
        "outputId": "adb077be-a39e-42df-aa35-f9fa7b8a053a"
      },
      "execution_count": 3,
      "outputs": [
        {
          "output_type": "stream",
          "name": "stdout",
          "text": [
            "Number of rows:  18\n",
            "0 0 0\n",
            "0 0 1\n",
            "0 0 2\n",
            "0 1 0\n",
            "0 1 1\n",
            "0 1 2\n",
            "0 2 0\n",
            "0 2 1\n",
            "0 2 2\n",
            "1 0 1\n",
            "1 0 2\n",
            "1 1 1\n",
            "1 1 2\n",
            "1 2 1\n",
            "1 2 2\n",
            "2 0 2\n",
            "2 1 2\n",
            "2 2 2\n"
          ]
        }
      ]
    }
  ]
}