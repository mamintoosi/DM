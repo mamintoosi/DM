{
 "cells": [
  {
   "attachments": {},
   "cell_type": "markdown",
   "metadata": {},
   "source": [
    "Otsu Method\n",
    "\n",
    "https://muthu.co/otsus-method-for-image-thresholding-explained-and-implemented/"
   ]
  },
  {
   "cell_type": "code",
   "execution_count": 2,
   "metadata": {},
   "outputs": [],
   "source": [
    "import numpy as np"
   ]
  },
  {
   "cell_type": "code",
   "execution_count": 3,
   "metadata": {},
   "outputs": [],
   "source": [
    "all_colors = np.array([21, 22, 25, 26, 27, 23, 24, 120, 120, 160, 180, 190, 123, 145, 165, 175])\n",
    "color_threshold = 100\n",
    "total_weight = len(all_colors)\n",
    "bg_pixels = all_colors[all_colors < color_threshold]\n",
    "weight_bg = len(bg_pixels) / total_weight\n",
    "variance_bg = np.var(bg_pixels)\n",
    "\n",
    "fg_pixels = all_colors[all_colors >= color_threshold]\n",
    "weight_fg = len(fg_pixels) / total_weight\n",
    "variance_fg = np.var(fg_pixels)\n",
    "\n",
    "within_class_variance = weight_fg*variance_fg + weight_bg*variance_bg"
   ]
  },
  {
   "cell_type": "code",
   "execution_count": 11,
   "metadata": {},
   "outputs": [
    {
     "name": "stdout",
     "output_type": "stream",
     "text": [
      "4.0 657.4320987654321 371.55555555555554 0.4375 0.5625\n"
     ]
    }
   ],
   "source": [
    "print(variance_bg, variance_fg, within_class_variance, weight_bg,weight_fg)"
   ]
  },
  {
   "cell_type": "code",
   "execution_count": 13,
   "metadata": {},
   "outputs": [
    {
     "name": "stdout",
     "output_type": "stream",
     "text": [
      "4102.303819444444\n"
     ]
    },
    {
     "data": {
      "text/plain": [
       "(4473.859375, 4102.303819444445, 371.55555555555554, 4102.303819444444)"
      ]
     },
     "execution_count": 13,
     "metadata": {},
     "output_type": "execute_result"
    }
   ],
   "source": [
    "t_var = np.var(all_colors)\n",
    "mu_T = np.mean(all_colors)\n",
    "mu_0 = np.mean(bg_pixels)\n",
    "mu_1 = np.mean(fg_pixels)\n",
    "b_var = weight_bg*(mu_0-mu_T)**2 + weight_fg*(mu_1-mu_T)**2\n",
    "print(b_var)\n",
    "b_var = weight_bg*weight_fg*(mu_0-mu_1)**2\n",
    "t_var, b_var, within_class_variance, t_var-within_class_variance"
   ]
  },
  {
   "cell_type": "code",
   "execution_count": null,
   "metadata": {},
   "outputs": [],
   "source": []
  }
 ],
 "metadata": {
  "kernelspec": {
   "display_name": "pth",
   "language": "python",
   "name": "python3"
  },
  "language_info": {
   "codemirror_mode": {
    "name": "ipython",
    "version": 3
   },
   "file_extension": ".py",
   "mimetype": "text/x-python",
   "name": "python",
   "nbconvert_exporter": "python",
   "pygments_lexer": "ipython3",
   "version": "3.7.11"
  },
  "orig_nbformat": 4
 },
 "nbformat": 4,
 "nbformat_minor": 2
}
