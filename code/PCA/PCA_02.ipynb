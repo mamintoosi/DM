{
 "cells": [
  {
   "cell_type": "code",
   "execution_count": null,
   "metadata": {},
   "outputs": [],
   "source": []
  },
  {
   "cell_type": "code",
   "execution_count": 1,
   "metadata": {},
   "outputs": [],
   "source": [
    "import numpy as np\n",
    "import matplotlib.pyplot as plt\n",
    "import seaborn as sb\n",
    "import pandas as pd\n"
   ]
  },
  {
   "cell_type": "code",
   "execution_count": 2,
   "metadata": {},
   "outputs": [
    {
     "data": {
      "text/plain": [
       "array([[2.5, 2.5],\n",
       "       [2.5, 4.3]])"
      ]
     },
     "execution_count": 2,
     "metadata": {},
     "output_type": "execute_result"
    }
   ],
   "source": [
    "X = np.array([[2, 3],\n",
    "              [3, 2],\n",
    "              [4, 6],\n",
    "              [5, 4],\n",
    "              [6, 7]])\n",
    "mean_X = np.mean(X, axis=0)\n",
    "X_meaned = X - mean_X\n",
    "\n",
    "# Step-2\n",
    "# covariance, function needs samples as columns\n",
    "cov_mat = np.cov(X_meaned.T)\n",
    "cov_mat\n"
   ]
  },
  {
   "cell_type": "code",
   "execution_count": 3,
   "metadata": {},
   "outputs": [
    {
     "data": {
      "text/plain": [
       "array([[2.5, 2.5],\n",
       "       [2.5, 4.3]])"
      ]
     },
     "execution_count": 3,
     "metadata": {},
     "output_type": "execute_result"
    }
   ],
   "source": [
    "1/(X.shape[0]-1)*X_meaned.T@X_meaned\n"
   ]
  },
  {
   "cell_type": "code",
   "execution_count": 4,
   "metadata": {},
   "outputs": [
    {
     "data": {
      "text/plain": [
       "(array([0.74293395, 6.05706605]),\n",
       " array([[-0.81814408,  0.57501327],\n",
       "        [ 0.57501327,  0.81814408]]))"
      ]
     },
     "execution_count": 4,
     "metadata": {},
     "output_type": "execute_result"
    }
   ],
   "source": [
    "# Step-3\n",
    "# A = V * D * V^-1\n",
    "eigen_values, eigen_vectors = np.linalg.eigh(cov_mat)\n",
    "eigen_values, eigen_vectors\n"
   ]
  },
  {
   "cell_type": "code",
   "execution_count": 36,
   "metadata": {},
   "outputs": [
    {
     "name": "stdout",
     "output_type": "stream",
     "text": [
      "[(0.742933948882715, 1, [Matrix([\n",
      "[-0.818144079081656],\n",
      "[ 0.575013274510797]])]), (6.05706605111728, 1, [Matrix([\n",
      "[-0.575013274510797],\n",
      "[-0.818144079081656]])])]\n"
     ]
    }
   ],
   "source": [
    "from sympy import *\n",
    "x1, x2, Lambda = symbols('x1 x2 Lambda')\n",
    "I = eye(2)\n",
    "A = Matrix(cov_mat)\n",
    "\n",
    "# print(A.eigenvals())  #returns eigenvalues and their algebraic multiplicity\n",
    "print(A.eigenvects())  #returns eigenvalues, eigenvects"
   ]
  },
  {
   "cell_type": "code",
   "execution_count": 52,
   "metadata": {},
   "outputs": [
    {
     "name": "stdout",
     "output_type": "stream",
     "text": [
      "[0.7429, 6.057]\n",
      "[0.742933948882715, 6.05706605111728]\n",
      "[{w₁: 0.0, w₂: 0.0}]\n",
      "{(0, 0)}\n"
     ]
    }
   ],
   "source": [
    "equation = Eq(det(A-Lambda*I), 0)\n",
    "D = solve(equation)\n",
    "print([N(element, 4) for element in D]) # Eigenvalus in decimal form\n",
    "print(pretty(D)) # Eigenvalues in exact form\n",
    "\n",
    "x1 = D[1]\n",
    "w1, w2 = symbols('w1 w2')\n",
    "w = Matrix([[w1],[w2]])\n",
    "T = cov_mat*w - x1*w # The Ax = %Lambda X with the first %Lambda = D[0]\n",
    "print(pretty(solve(T,w, dict=True)))\n",
    "W = linsolve((A,x1*w),(w1,w2))\n",
    "print(W)\n"
   ]
  },
  {
   "cell_type": "code",
   "execution_count": 47,
   "metadata": {},
   "outputs": [
    {
     "data": {
      "text/plain": [
       "([0.742933948882715, 6.05706605111728],\n",
       " list,\n",
       " Matrix([\n",
       " [w1],\n",
       " [w2]]),\n",
       " 6.05706605111728)"
      ]
     },
     "execution_count": 47,
     "metadata": {},
     "output_type": "execute_result"
    }
   ],
   "source": [
    "D, type(D), w, x1"
   ]
  },
  {
   "cell_type": "code",
   "execution_count": 5,
   "metadata": {},
   "outputs": [
    {
     "data": {
      "text/plain": [
       "array([[2.5, 2.5],\n",
       "       [2.5, 4.3]])"
      ]
     },
     "execution_count": 5,
     "metadata": {},
     "output_type": "execute_result"
    }
   ],
   "source": [
    "X_reconstructed = eigen_vectors @ np.diag(eigen_values) @ np.linalg.inv(eigen_vectors)\n",
    "X_reconstructed\n"
   ]
  },
  {
   "cell_type": "code",
   "execution_count": 18,
   "metadata": {},
   "outputs": [
    {
     "data": {
      "text/plain": [
       "(array([6.05706605, 0.74293395]),\n",
       " array([[ 0.57501327, -0.81814408],\n",
       "        [ 0.81814408,  0.57501327]]))"
      ]
     },
     "execution_count": 18,
     "metadata": {},
     "output_type": "execute_result"
    }
   ],
   "source": [
    "# Step-4\n",
    "sorted_index = np.argsort(eigen_values)[::-1]\n",
    "sorted_eigenvalue = eigen_values[sorted_index]\n",
    "sorted_eigenvectors = eigen_vectors[:, sorted_index]\n",
    "sorted_eigenvalue, sorted_eigenvectors\n"
   ]
  },
  {
   "cell_type": "code",
   "execution_count": 7,
   "metadata": {},
   "outputs": [
    {
     "data": {
      "text/plain": [
       "array([[0.57501327],\n",
       "       [0.81814408]])"
      ]
     },
     "execution_count": 7,
     "metadata": {},
     "output_type": "execute_result"
    }
   ],
   "source": [
    "num_components = 1\n",
    "# Step-5\n",
    "eigenvector_subset = sorted_eigenvectors[:, 0:num_components]\n",
    "eigenvector_subset\n"
   ]
  },
  {
   "cell_type": "code",
   "execution_count": 8,
   "metadata": {},
   "outputs": [
    {
     "data": {
      "text/plain": [
       "array([[-2.29542826],\n",
       "       [-2.53855906],\n",
       "       [ 1.30903053],\n",
       "       [ 0.24775564],\n",
       "       [ 3.27720115]])"
      ]
     },
     "execution_count": 8,
     "metadata": {},
     "output_type": "execute_result"
    }
   ],
   "source": [
    "# Step-6\n",
    "X_projected = X_meaned @ eigenvector_subset\n",
    "X_projected\n"
   ]
  },
  {
   "cell_type": "code",
   "execution_count": 9,
   "metadata": {},
   "outputs": [
    {
     "data": {
      "text/plain": [
       "array([[2.68009828, 2.52200896],\n",
       "       [2.54029484, 2.32309293],\n",
       "       [4.75270993, 5.47097557],\n",
       "       [4.14246278, 4.60269981],\n",
       "       [5.88443417, 7.08122272]])"
      ]
     },
     "execution_count": 9,
     "metadata": {},
     "output_type": "execute_result"
    }
   ],
   "source": [
    "X_reconstructed = X_projected @ eigenvector_subset.T + mean_X\n",
    "X_reconstructed"
   ]
  },
  {
   "cell_type": "code",
   "execution_count": 10,
   "metadata": {},
   "outputs": [
    {
     "data": {
      "image/png": "[encoded data removed]",
      "text/plain": [
       "<Figure size 432x288 with 1 Axes>"
      ]
     },
     "metadata": {
      "needs_background": "light"
     },
     "output_type": "display_data"
    }
   ],
   "source": [
    "fig = plt.figure()\n",
    "plt.scatter(X[:, 0], X[:, 1], c='blue')\n",
    "plt.scatter(X_reconstructed[:, 0], X_reconstructed[:, 1], c='green')\n",
    "ax = plt.gca()\n",
    "ax.set_aspect('equal', adjustable='box')\n",
    "plt.draw()\n"
   ]
  },
  {
   "cell_type": "code",
   "execution_count": 11,
   "metadata": {},
   "outputs": [],
   "source": [
    "def PCA(X, num_components):\n",
    "\n",
    "    # Step-1\n",
    "    mean_X = np.mean(X, axis=0)\n",
    "    X_meaned = X - mean_X\n",
    "\n",
    "    # Step-2\n",
    "    # covariance, function needs samples as columns\n",
    "    cov_mat = np.cov(X_meaned.T)\n",
    "    # cov_mat = np.cov(X_meaned , rowvar = False)\n",
    "\n",
    "    # Step-3\n",
    "    eigen_values, eigen_vectors = np.linalg.eigh(cov_mat)\n",
    "\n",
    "    # Step-4\n",
    "    sorted_index = np.argsort(eigen_values)[::-1]\n",
    "    sorted_eigenvalue = eigen_values[sorted_index]\n",
    "    sorted_eigenvectors = eigen_vectors[:, sorted_index]\n",
    "\n",
    "    # Step-5\n",
    "    eigenvector_subset = sorted_eigenvectors[:, 0:num_components]\n",
    "\n",
    "    # Step-6\n",
    "    X_projected = X_meaned @ eigenvector_subset\n",
    "\n",
    "    X_reconstructed = X_projected @ eigenvector_subset.T + mean_X\n",
    "\n",
    "    return X_projected, X_reconstructed\n"
   ]
  },
  {
   "cell_type": "code",
   "execution_count": 12,
   "metadata": {},
   "outputs": [
    {
     "data": {
      "image/png": "[encoded data removed]",
      "text/plain": [
       "<Figure size 432x288 with 1 Axes>"
      ]
     },
     "metadata": {
      "needs_background": "light"
     },
     "output_type": "display_data"
    }
   ],
   "source": [
    "# Applying it to PCA function\n",
    "X_projected, X_reconstructed = PCA(X, 1)\n",
    "\n",
    "fig = plt.figure()\n",
    "plt.scatter(X[:, 0], X[:, 1], c='blue')\n",
    "plt.scatter(X_reconstructed[:, 0], X_reconstructed[:, 1], c='green')\n",
    "ax = plt.gca()\n",
    "ax.set_aspect('equal', adjustable='box')\n",
    "plt.draw()\n"
   ]
  },
  {
   "cell_type": "code",
   "execution_count": 13,
   "metadata": {},
   "outputs": [
    {
     "data": {
      "text/plain": [
       "(10, 2)"
      ]
     },
     "execution_count": 13,
     "metadata": {},
     "output_type": "execute_result"
    }
   ],
   "source": [
    "w0, w1 = 1, 2\n",
    "N = 10\n",
    "\n",
    "# Data Generation\n",
    "np.random.seed(42)\n",
    "x = np.random.rand(N, 1)\n",
    "\n",
    "epsilon = (.5 * np.random.randn(N, 1))\n",
    "y = w0 + w1 * x + epsilon\n",
    "X = np.hstack([x,y])\n",
    "X.shape"
   ]
  },
  {
   "cell_type": "code",
   "execution_count": 14,
   "metadata": {},
   "outputs": [
    {
     "data": {
      "text/plain": [
       "<matplotlib.collections.PathCollection at 0x17bc365cf48>"
      ]
     },
     "execution_count": 14,
     "metadata": {},
     "output_type": "execute_result"
    },
    {
     "data": {
      "image/png": "[encoded data removed]",
      "text/plain": [
       "<Figure size 432x288 with 1 Axes>"
      ]
     },
     "metadata": {
      "needs_background": "light"
     },
     "output_type": "display_data"
    }
   ],
   "source": [
    "X_projected, X_reconstructed = PCA(X, 1)\n",
    "\n",
    "fig = plt.figure()\n",
    "plt.scatter(X[:, 0], X[:, 1], c='blue')\n",
    "plt.scatter(X_reconstructed[:, 0], X_reconstructed[:, 1], c='green')"
   ]
  },
  {
   "cell_type": "code",
   "execution_count": null,
   "metadata": {},
   "outputs": [],
   "source": []
  }
 ],
 "metadata": {
  "kernelspec": {
   "display_name": "pth",
   "language": "python",
   "name": "python3"
  },
  "language_info": {
   "codemirror_mode": {
    "name": "ipython",
    "version": 3
   },
   "file_extension": ".py",
   "mimetype": "text/x-python",
   "name": "python",
   "nbconvert_exporter": "python",
   "pygments_lexer": "ipython3",
   "version": "3.7.11"
  },
  "orig_nbformat": 4
 },
 "nbformat": 4,
 "nbformat_minor": 2
}
