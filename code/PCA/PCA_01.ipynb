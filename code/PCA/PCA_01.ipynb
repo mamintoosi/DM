{
 "cells": [
  {
   "cell_type": "markdown",
   "metadata": {},
   "source": [
    "M. Amintoosi\n",
    "\n",
    "Chapter 7 of Zaki"
   ]
  },
  {
   "cell_type": "code",
   "execution_count": 2,
   "metadata": {},
   "outputs": [],
   "source": [
    "import numpy as np\n",
    "import matplotlib.pyplot as plt\n",
    "import seaborn as sb\n",
    "import pandas as pd\n"
   ]
  },
  {
   "cell_type": "code",
   "execution_count": 41,
   "metadata": {},
   "outputs": [],
   "source": [
    "u1 = np.array([[1],[1]])\n",
    "u1 = u1 / np.linalg.norm(u1)\n",
    "# u1, np.linalg.norm(u1)"
   ]
  },
  {
   "cell_type": "code",
   "execution_count": 42,
   "metadata": {},
   "outputs": [
    {
     "data": {
      "text/plain": [
       "(array([[0.70710678],\n",
       "        [0.70710678]]),\n",
       " array([[-0.70710678],\n",
       "        [ 0.70710678]]))"
      ]
     },
     "execution_count": 42,
     "metadata": {},
     "output_type": "execute_result"
    }
   ],
   "source": [
    "u2 = u1.copy()\n",
    "u2[0] *= -1\n",
    "u1, u2"
   ]
  },
  {
   "cell_type": "code",
   "execution_count": 43,
   "metadata": {},
   "outputs": [
    {
     "data": {
      "image/png": "[encoded data removed]",
      "text/plain": [
       "<Figure size 432x288 with 1 Axes>"
      ]
     },
     "metadata": {
      "needs_background": "light"
     },
     "output_type": "display_data"
    }
   ],
   "source": [
    "origin = np.array([0,0])\n",
    "plt.quiver(origin[0],origin[1],u1[0],u1[1],scale=1, scale_units='xy', angles='xy',color='r')\n",
    "plt.quiver(origin[0],origin[1],u2[0],u2[1],scale=1, scale_units='xy', angles='xy',color='r')\n",
    "\n",
    "x = np.array([.5,1])\n",
    "x = np.reshape(x,(2,1))\n",
    "plt.scatter(x[0],x[1])\n",
    "plt.axis('equal')\n",
    "plt.axis([-1,1,0,1])\n"
   ]
  },
  {
   "cell_type": "code",
   "execution_count": 64,
   "metadata": {},
   "outputs": [
    {
     "data": {
      "text/plain": [
       "(array([[ 0.70710678, -0.70710678],\n",
       "        [ 0.70710678,  0.70710678]]),\n",
       " array([[0.5],\n",
       "        [1. ]]))"
      ]
     },
     "execution_count": 64,
     "metadata": {},
     "output_type": "execute_result"
    }
   ],
   "source": [
    "U = np.concatenate((u1,u2),axis=1)\n",
    "U,x"
   ]
  },
  {
   "cell_type": "code",
   "execution_count": 65,
   "metadata": {},
   "outputs": [
    {
     "data": {
      "text/plain": [
       "array([[1.06066017],\n",
       "       [0.35355339]])"
      ]
     },
     "execution_count": 65,
     "metadata": {},
     "output_type": "execute_result"
    }
   ],
   "source": [
    "a = U.T@x\n",
    "a"
   ]
  },
  {
   "cell_type": "code",
   "execution_count": 66,
   "metadata": {},
   "outputs": [
    {
     "data": {
      "text/plain": [
       "(-1.0, 1.0, 0.0, 1.0)"
      ]
     },
     "execution_count": 66,
     "metadata": {},
     "output_type": "execute_result"
    },
    {
     "data": {
      "image/png": "[encoded data removed]",
      "text/plain": [
       "<Figure size 432x288 with 1 Axes>"
      ]
     },
     "metadata": {
      "needs_background": "light"
     },
     "output_type": "display_data"
    }
   ],
   "source": [
    "origin = np.array([0,0])\n",
    "plt.quiver(origin[0],origin[1],u1[0],u1[1],scale=1, scale_units='xy', \n",
    "           angles='xy',color='r')\n",
    "plt.quiver(origin[0],origin[1],u2[0],u2[1],scale=1, scale_units='xy', \n",
    "           angles='xy',color='r')\n",
    "a1u1 = a[0]*u1\n",
    "a2u2 = a[1]*u2\n",
    "plt.quiver(origin[0],origin[1],a1u1[0],a1u1[1],scale=1, scale_units='xy', \n",
    "           angles='xy',color='b')\n",
    "plt.quiver(origin[0],origin[1],a2u2[0],a2u2[1],scale=1, scale_units='xy', \n",
    "           angles='xy',color='b')\n",
    "\n",
    "plt.scatter(x[0],x[1])\n",
    "plt.axis('equal')\n",
    "plt.axis([-1,1,0,1])"
   ]
  },
  {
   "cell_type": "code",
   "execution_count": 68,
   "metadata": {},
   "outputs": [
    {
     "data": {
      "text/plain": [
       "(array([[ 0.70710678, -0.70710678],\n",
       "        [ 0.70710678,  0.70710678]]),\n",
       " array([[0.5],\n",
       "        [1. ]]),\n",
       " array([[1.06066017],\n",
       "        [0.35355339]]))"
      ]
     },
     "execution_count": 68,
     "metadata": {},
     "output_type": "execute_result"
    }
   ],
   "source": [
    "# U[1,0] = 0.3\n",
    "U, x, a"
   ]
  },
  {
   "cell_type": "code",
   "execution_count": 70,
   "metadata": {},
   "outputs": [
    {
     "data": {
      "text/plain": [
       "(array([[0.5],\n",
       "        [1. ]]),\n",
       " array([[0.5],\n",
       "        [1. ]]),\n",
       " array([[0.75],\n",
       "        [0.75]]),\n",
       " array([0.75, 0.75]))"
      ]
     },
     "execution_count": 70,
     "metadata": {},
     "output_type": "execute_result"
    }
   ],
   "source": [
    "u1*a[0]+u2*a[1], U@a, u1@a[:1], u1@a[0]"
   ]
  },
  {
   "cell_type": "code",
   "execution_count": 32,
   "metadata": {},
   "outputs": [
    {
     "data": {
      "text/plain": [
       "array([[2.5, 2.5],\n",
       "       [2.5, 4.3]])"
      ]
     },
     "execution_count": 32,
     "metadata": {},
     "output_type": "execute_result"
    }
   ],
   "source": [
    "X = np.array([[2, 3],\n",
    "              [3, 2],\n",
    "              [4, 6],\n",
    "              [5, 4],\n",
    "              [6, 7]])\n",
    "mean_X = np.mean(X, axis=0)\n",
    "X_meaned = X - mean_X\n",
    "\n",
    "# Step-2\n",
    "# covariance, function needs samples as columns\n",
    "cov_mat = np.cov(X_meaned.T)\n",
    "cov_mat\n"
   ]
  },
  {
   "cell_type": "code",
   "execution_count": 33,
   "metadata": {},
   "outputs": [
    {
     "data": {
      "text/plain": [
       "array([[2.5, 2.5],\n",
       "       [2.5, 4.3]])"
      ]
     },
     "execution_count": 33,
     "metadata": {},
     "output_type": "execute_result"
    }
   ],
   "source": [
    "1/(X.shape[0]-1)*X_meaned.T@X_meaned\n"
   ]
  },
  {
   "cell_type": "code",
   "execution_count": 34,
   "metadata": {},
   "outputs": [
    {
     "data": {
      "text/plain": [
       "(array([0.74293395, 6.05706605]),\n",
       " array([[-0.81814408,  0.57501327],\n",
       "        [ 0.57501327,  0.81814408]]))"
      ]
     },
     "execution_count": 34,
     "metadata": {},
     "output_type": "execute_result"
    }
   ],
   "source": [
    "# Step-3\n",
    "# A = V * D * V^-1\n",
    "eigen_values, eigen_vectors = np.linalg.eigh(cov_mat)\n",
    "eigen_values, eigen_vectors"
   ]
  },
  {
   "cell_type": "code",
   "execution_count": 63,
   "metadata": {},
   "outputs": [
    {
     "name": "stdout",
     "output_type": "stream",
     "text": [
      "[[-0.81814408]\n",
      " [ 0.57501327]]\n",
      "[[-0.60782701]\n",
      " [ 0.42719688]]\n",
      "[[-0.60782701]\n",
      " [ 0.42719688]]\n"
     ]
    }
   ],
   "source": [
    "A = cov_mat\n",
    "lambda1 = eigen_values[0]\n",
    "x1 = eigen_vectors[:,0]\n",
    "x1 = x1[:,np.newaxis]\n",
    "print(x1)\n",
    "print(A@x1)\n",
    "print(lambda1*x1)"
   ]
  },
  {
   "cell_type": "code",
   "execution_count": 35,
   "metadata": {},
   "outputs": [
    {
     "data": {
      "text/plain": [
       "array([[2.5, 2.5],\n",
       "       [2.5, 4.3]])"
      ]
     },
     "execution_count": 35,
     "metadata": {},
     "output_type": "execute_result"
    }
   ],
   "source": [
    "X_reconstructed = eigen_vectors @ np.diag(eigen_values) @ np.linalg.inv(eigen_vectors)\n",
    "X_reconstructed"
   ]
  },
  {
   "cell_type": "code",
   "execution_count": 36,
   "metadata": {},
   "outputs": [
    {
     "data": {
      "text/plain": [
       "(array([6.05706605, 0.74293395]),\n",
       " array([[ 0.57501327, -0.81814408],\n",
       "        [ 0.81814408,  0.57501327]]))"
      ]
     },
     "execution_count": 36,
     "metadata": {},
     "output_type": "execute_result"
    }
   ],
   "source": [
    "# Step-4\n",
    "sorted_index = np.argsort(eigen_values)[::-1]\n",
    "sorted_eigenvalues = eigen_values[sorted_index]\n",
    "sorted_eigenvectors = eigen_vectors[:, sorted_index]\n",
    "sorted_eigenvalues, sorted_eigenvectors\n"
   ]
  },
  {
   "cell_type": "code",
   "execution_count": 37,
   "metadata": {},
   "outputs": [
    {
     "data": {
      "text/plain": [
       "array([[0.57501327],\n",
       "       [0.81814408]])"
      ]
     },
     "execution_count": 37,
     "metadata": {},
     "output_type": "execute_result"
    }
   ],
   "source": [
    "num_components = 1\n",
    "# Step-5\n",
    "eigenvector_subset = sorted_eigenvectors[:, 0:num_components]\n",
    "eigenvector_subset\n"
   ]
  },
  {
   "cell_type": "code",
   "execution_count": 38,
   "metadata": {},
   "outputs": [
    {
     "data": {
      "text/plain": [
       "array([[-2.29542826],\n",
       "       [-2.53855906],\n",
       "       [ 1.30903053],\n",
       "       [ 0.24775564],\n",
       "       [ 3.27720115]])"
      ]
     },
     "execution_count": 38,
     "metadata": {},
     "output_type": "execute_result"
    }
   ],
   "source": [
    "# Step-6\n",
    "X_projected = X_meaned @ eigenvector_subset\n",
    "X_projected\n"
   ]
  },
  {
   "cell_type": "code",
   "execution_count": 39,
   "metadata": {},
   "outputs": [
    {
     "data": {
      "text/plain": [
       "array([[2.68009828, 2.52200896],\n",
       "       [2.54029484, 2.32309293],\n",
       "       [4.75270993, 5.47097557],\n",
       "       [4.14246278, 4.60269981],\n",
       "       [5.88443417, 7.08122272]])"
      ]
     },
     "execution_count": 39,
     "metadata": {},
     "output_type": "execute_result"
    }
   ],
   "source": [
    "X_reconstructed = X_projected @ eigenvector_subset.T + mean_X\n",
    "X_reconstructed"
   ]
  },
  {
   "cell_type": "code",
   "execution_count": 40,
   "metadata": {},
   "outputs": [
    {
     "data": {
      "image/png": "[encoded data removed]",
      "text/plain": [
       "<Figure size 432x288 with 1 Axes>"
      ]
     },
     "metadata": {
      "needs_background": "light"
     },
     "output_type": "display_data"
    }
   ],
   "source": [
    "fig = plt.figure()\n",
    "plt.scatter(X[:, 0], X[:, 1], c='blue')\n",
    "plt.scatter(X_reconstructed[:, 0], X_reconstructed[:, 1], c='green')\n",
    "ax = plt.gca()\n",
    "ax.set_aspect('equal', adjustable='box')\n",
    "plt.draw()\n"
   ]
  },
  {
   "cell_type": "code",
   "execution_count": 41,
   "metadata": {},
   "outputs": [],
   "source": [
    "def PCA(X, num_components):\n",
    "\n",
    "    # Step-1\n",
    "    mean_X = np.mean(X, axis=0)\n",
    "    X_meaned = X - mean_X\n",
    "\n",
    "    # Step-2\n",
    "    # covariance, function needs samples as columns\n",
    "    cov_mat = np.cov(X_meaned.T)\n",
    "    \n",
    "    # Step-3\n",
    "    eigen_values, eigen_vectors = np.linalg.eigh(cov_mat)\n",
    "\n",
    "    # Step-4\n",
    "    sorted_index = np.argsort(eigen_values)[::-1]\n",
    "    # sorted_eigenvalues = eigen_values[sorted_index]\n",
    "    sorted_eigenvectors = eigen_vectors[:, sorted_index]\n",
    "\n",
    "    # Step-5\n",
    "    eigenvector_subset = sorted_eigenvectors[:, 0:num_components]\n",
    "\n",
    "    # Step-6\n",
    "    X_projected = X_meaned @ eigenvector_subset\n",
    "\n",
    "    X_reconstructed = X_projected @ eigenvector_subset.T + mean_X\n",
    "\n",
    "    return X_projected, X_reconstructed\n"
   ]
  },
  {
   "cell_type": "code",
   "execution_count": 42,
   "metadata": {},
   "outputs": [
    {
     "data": {
      "image/png": "[encoded data removed]",
      "text/plain": [
       "<Figure size 432x288 with 1 Axes>"
      ]
     },
     "metadata": {
      "needs_background": "light"
     },
     "output_type": "display_data"
    }
   ],
   "source": [
    "# Applying it to PCA function\n",
    "X_projected, X_reconstructed = PCA(X, 1)\n",
    "\n",
    "fig = plt.figure()\n",
    "plt.scatter(X[:, 0], X[:, 1], c='blue')\n",
    "plt.scatter(X_reconstructed[:, 0], X_reconstructed[:, 1], c='green')\n",
    "ax = plt.gca()\n",
    "ax.set_aspect('equal', adjustable='box')\n",
    "plt.draw()\n"
   ]
  },
  {
   "cell_type": "code",
   "execution_count": 43,
   "metadata": {},
   "outputs": [
    {
     "data": {
      "text/plain": [
       "(10, 2)"
      ]
     },
     "execution_count": 43,
     "metadata": {},
     "output_type": "execute_result"
    }
   ],
   "source": [
    "w0, w1 = 1, 2\n",
    "N = 10\n",
    "\n",
    "# Data Generation\n",
    "np.random.seed(42)\n",
    "x = np.random.rand(N, 1)\n",
    "\n",
    "epsilon = (.5 * np.random.randn(N, 1))\n",
    "y = w0 + w1 * x + epsilon\n",
    "X = np.hstack([x,y])\n",
    "X.shape"
   ]
  },
  {
   "cell_type": "code",
   "execution_count": 50,
   "metadata": {},
   "outputs": [
    {
     "data": {
      "image/png": "[encoded data removed]",
      "text/plain": [
       "<Figure size 432x288 with 1 Axes>"
      ]
     },
     "metadata": {
      "needs_background": "light"
     },
     "output_type": "display_data"
    }
   ],
   "source": [
    "X_projected, X_reconstructed = PCA(X, 1)\n",
    "\n",
    "fig = plt.figure()\n",
    "plt.scatter(X[:, 0], X[:, 1], c='blue')\n",
    "plt.scatter(X_reconstructed[:, 0], X_reconstructed[:, 1], c='green')\n",
    "ax = plt.gca()\n",
    "ax.set_aspect('equal', adjustable='box')\n",
    "plt.draw()\n"
   ]
  },
  {
   "cell_type": "code",
   "execution_count": null,
   "metadata": {},
   "outputs": [],
   "source": []
  }
 ],
 "metadata": {
  "kernelspec": {
   "display_name": "pth",
   "language": "python",
   "name": "python3"
  },
  "language_info": {
   "codemirror_mode": {
    "name": "ipython",
    "version": 3
   },
   "file_extension": ".py",
   "mimetype": "text/x-python",
   "name": "python",
   "nbconvert_exporter": "python",
   "pygments_lexer": "ipython3",
   "version": "3.10.4"
  },
  "orig_nbformat": 4
 },
 "nbformat": 4,
 "nbformat_minor": 2
}
