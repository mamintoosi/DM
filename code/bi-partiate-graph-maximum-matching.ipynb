{
 "cells": [
  {
   "attachments": {},
   "cell_type": "markdown",
   "metadata": {},
   "source": [
    "Maximum matching"
   ]
  },
  {
   "cell_type": "code",
   "execution_count": 1,
   "metadata": {},
   "outputs": [
    {
     "name": "stdout",
     "output_type": "stream",
     "text": [
      "{('y', 'a'), ('c', 'x')}\n"
     ]
    }
   ],
   "source": [
    "import networkx as nx\n",
    "from networkx.algorithms import bipartite\n",
    "\n",
    "def maximum_matching_bipartite_graph(G):\n",
    "    \"\"\"\n",
    "    Return the maximum cardinality matching of a bipartite graph G.\n",
    "    \n",
    "    Parameters:\n",
    "        G (networkx.Graph): Bipartite Graph\n",
    "        \n",
    "    Returns:\n",
    "        (dictionary): Maximum cardinality matching\n",
    "    \"\"\"\n",
    "    left_nodes, right_nodes = bipartite.sets(G)\n",
    "    matching = nx.algorithms.matching.max_weight_matching(G)\n",
    "    return matching\n",
    "\n",
    "# Example Usage\n",
    "G = nx.Graph()\n",
    "G.add_nodes_from(['a', 'b', 'c'], bipartite=0) # Set the node attribute \"bipartite\" to 0 for nodes in one partition\n",
    "G.add_nodes_from(['x', 'y'], bipartite=1) # Set the node attribute \"bipartite\" to 1 for nodes in the other partition\n",
    "G.add_edges_from([('a', 'x'), ('a', 'y'), ('b', 'y'), ('c', 'x')])\n",
    "maximum_matching = maximum_matching_bipartite_graph(G)\n",
    "print(maximum_matching)\n"
   ]
  },
  {
   "cell_type": "code",
   "execution_count": 2,
   "metadata": {},
   "outputs": [
    {
     "data": {
      "image/png": "[encoded data removed]",
      "text/plain": [
       "<Figure size 432x288 with 1 Axes>"
      ]
     },
     "metadata": {},
     "output_type": "display_data"
    }
   ],
   "source": [
    "import networkx as nx\n",
    "from networkx.algorithms import bipartite\n",
    "import matplotlib.pyplot as plt\n",
    "\n",
    "def maximum_matching_bipartite_graph(G):\n",
    "    \"\"\"\n",
    "    Return the maximum cardinality matching of a bipartite graph G.\n",
    "    \n",
    "    Parameters:\n",
    "        G (networkx.Graph): Bipartite Graph\n",
    "        \n",
    "    Returns:\n",
    "        (dictionary): Maximum cardinality matching\n",
    "    \"\"\"\n",
    "    left_nodes, right_nodes = bipartite.sets(G)\n",
    "    matching = nx.algorithms.matching.max_weight_matching(G)\n",
    "    return matching\n",
    "\n",
    "# Example Usage\n",
    "G = nx.Graph()\n",
    "G.add_nodes_from(['a', 'b', 'c'], bipartite=0) # Set the node attribute \"bipartite\" to 0 for nodes in one partition\n",
    "G.add_nodes_from(['x', 'y'], bipartite=1) # Set the node attribute \"bipartite\" to 1 for nodes in the other partition\n",
    "G.add_edges_from([('a', 'x'), ('a', 'y'), ('b', 'y'), ('c', 'x')])\n",
    "\n",
    "# Compute maximum matching\n",
    "maximum_matching = maximum_matching_bipartite_graph(G)\n",
    "\n",
    "# Draw bipartite graph\n",
    "pos = dict()\n",
    "pos.update( (n, (1, i)) for i, n in enumerate(['a', 'b', 'c']) ) # positions for left nodes\n",
    "pos.update( (n, (2, i)) for i, n in enumerate(['x', 'y']) ) # positions for right nodes\n",
    "nx.draw(G, pos=pos, with_labels=True)\n",
    "\n",
    "# Highlight matched edges\n",
    "matched_edges = [(u, v) for u, v in maximum_matching]\n",
    "nx.draw_networkx_edges(G, pos, edgelist=matched_edges, edge_color='r', width=2)\n",
    "\n",
    "plt.show()\n"
   ]
  },
  {
   "cell_type": "code",
   "execution_count": 5,
   "metadata": {},
   "outputs": [
    {
     "data": {
      "image/png": "[encoded data removed]",
      "text/plain": [
       "<Figure size 432x288 with 1 Axes>"
      ]
     },
     "metadata": {},
     "output_type": "display_data"
    }
   ],
   "source": [
    "import networkx as nx\n",
    "from networkx.algorithms import bipartite\n",
    "import matplotlib.pyplot as plt\n",
    "\n",
    "def maximum_matching_bipartite_graph(G):\n",
    "    \"\"\"\n",
    "    Return the maximum cardinality matching of a bipartite graph G.\n",
    "    \n",
    "    Parameters:\n",
    "        G (networkx.Graph): Bipartite Graph\n",
    "        \n",
    "    Returns:\n",
    "        (dictionary): Maximum cardinality matching\n",
    "    \"\"\"\n",
    "    left_nodes, right_nodes = bipartite.sets(G)\n",
    "    matching_edges = nx.algorithms.matching.max_weight_matching(G, weight='weight')\n",
    "    # Convert matching from list of edges to dictionary format\n",
    "    matching_dict = dict()\n",
    "    for u, v in matching_edges:\n",
    "        matching_dict[u] = v\n",
    "    return matching_dict\n",
    "\n",
    "# Example Usage\n",
    "G = nx.Graph()\n",
    "G.add_nodes_from(['C1', 'C2', 'C3'], bipartite=0) # Set the node attribute \"bipartite\" to 0 for nodes in one partition\n",
    "G.add_nodes_from(['T1', 'T2', 'T3'], bipartite=1) # Set the node attribute \"bipartite\" to 1 for nodes in the other partition\n",
    "G.add_weighted_edges_from([('C1', 'T1', 3), ('C1', 'T2', 5),\\\n",
    "                           ('C2', 'T1', 20), ('C2', 'T2', 4),\\\n",
    "                           ('C3', 'T2', 46), ('C3', 'T3', 50)])\n",
    "\n",
    "# Compute maximum matching\n",
    "maximum_matching = maximum_matching_bipartite_graph(G)\n",
    "\n",
    "# Draw bipartite graph\n",
    "pos = dict()\n",
    "pos.update( (n, (1, 4-i)) for i, n in enumerate(['C1', 'C2', 'C3']) ) # positions for left nodes\n",
    "pos.update( (n, (2, 4-i)) for i, n in enumerate(['T1', 'T2', 'T3']) ) # positions for right nodes\n",
    "\n",
    "# Get edge labels\n",
    "edge_labels = dict([((u, v), d['weight']) for u, v, d in G.edges(data=True)])\n",
    "\n",
    "nx.draw(G, pos=pos, with_labels=True)\n",
    "nx.draw_networkx_edge_labels(G, pos=pos, edge_labels=edge_labels, font_size=10)\n",
    "\n",
    "# Highlight matched edges\n",
    "matched_edges = [(u, v) for u, v in maximum_matching.items()]\n",
    "nx.draw_networkx_edges(G, pos, edgelist=matched_edges, edge_color='r', width=2)\n",
    "\n",
    "plt.show()\n"
   ]
  },
  {
   "cell_type": "code",
   "execution_count": null,
   "metadata": {},
   "outputs": [],
   "source": []
  }
 ],
 "metadata": {
  "kernelspec": {
   "display_name": "pth",
   "language": "python",
   "name": "python3"
  },
  "language_info": {
   "codemirror_mode": {
    "name": "ipython",
    "version": 3
   },
   "file_extension": ".py",
   "mimetype": "text/x-python",
   "name": "python",
   "nbconvert_exporter": "python",
   "pygments_lexer": "ipython3",
   "version": "3.7.11"
  },
  "orig_nbformat": 4
 },
 "nbformat": 4,
 "nbformat_minor": 2
}
