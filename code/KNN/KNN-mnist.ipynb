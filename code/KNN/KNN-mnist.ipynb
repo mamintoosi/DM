{
 "cells": [
  {
   "attachments": {},
   "cell_type": "markdown",
   "metadata": {},
   "source": [
    "کد اصلی برگرفته از گیت‌هاب زیر:\n",
    "\n",
    "https://github.com/MarianaBazely"
   ]
  },
  {
   "attachments": {},
   "cell_type": "markdown",
   "metadata": {},
   "source": [
    "\n",
    "<a href=\"https://colab.research.google.com/github/mamintoosi/DM/blob/master/code/KNN/KNN-mnist.ipynb\"><img align=\"left\" src=\"https://colab.research.google.com/assets/colab-badge.svg\" alt=\"Open in Colab\" title=\"Open and Execute in Google Colaboratory\"></a>\n"
   ]
  },
  {
   "cell_type": "code",
   "execution_count": 2,
   "metadata": {},
   "outputs": [],
   "source": [
    "# K-Nearest Neighbor Classification\n",
    "from sklearn.model_selection import train_test_split\n",
    "from sklearn.neighbors import KNeighborsClassifier\n",
    "from sklearn.metrics import classification_report, accuracy_score\n",
    "from sklearn import datasets\n",
    "import numpy as np\n",
    "from matplotlib import pyplot as plt"
   ]
  },
  {
   "cell_type": "code",
   "execution_count": 3,
   "metadata": {},
   "outputs": [],
   "source": [
    "# load the MNIST digits dataset\n",
    "mnist = datasets.load_digits()\n",
    "\n",
    "#print (mnist.data)\n",
    "\n",
    "# Training and testing split,\n",
    "# 75% for training and 25% for testing\n",
    "(x_train, x_test, y_train, y_test) = train_test_split(np.array(mnist.data), mnist.target, test_size=0.25)#, random_state=42)"
   ]
  },
  {
   "cell_type": "code",
   "execution_count": 4,
   "metadata": {},
   "outputs": [
    {
     "name": "stdout",
     "output_type": "stream",
     "text": [
      "training data points: 1347\n",
      "testing data points: 450\n"
     ]
    }
   ],
   "source": [
    "# Checking sizes of each data split\n",
    "print(\"training data points: {}\".format(len(y_train)))\n",
    "print(\"testing data points: {}\".format(len(y_test)))\n"
   ]
  },
  {
   "cell_type": "code",
   "execution_count": 5,
   "metadata": {},
   "outputs": [
    {
     "data": {
      "text/plain": [
       "(1797, 64)"
      ]
     },
     "execution_count": 5,
     "metadata": {},
     "output_type": "execute_result"
    }
   ],
   "source": [
    "mnist.data.shape"
   ]
  },
  {
   "cell_type": "code",
   "execution_count": 6,
   "metadata": {},
   "outputs": [
    {
     "data": {
      "image/png": "[encoded data removed]",
      "text/plain": [
       "<Figure size 432x288 with 9 Axes>"
      ]
     },
     "metadata": {
      "needs_background": "light"
     },
     "output_type": "display_data"
    }
   ],
   "source": [
    "# visualize\n",
    "plt.figure\n",
    "for i in range(9):\n",
    "    plt.subplot(3, 3, i+1)\n",
    "    plt.imshow(x_train[i].reshape(8, 8), cmap='gray')\n",
    "    plt.title(y_train[i])\n",
    "    plt.axis('off')\n",
    "    plt.savefig('mnist_plot.png')\n",
    "plt.show()"
   ]
  },
  {
   "cell_type": "code",
   "execution_count": 7,
   "metadata": {},
   "outputs": [
    {
     "data": {
      "text/plain": [
       "KNeighborsClassifier()"
      ]
     },
     "execution_count": 7,
     "metadata": {},
     "output_type": "execute_result"
    }
   ],
   "source": [
    "knn_clf = KNeighborsClassifier()\n",
    "knn_clf.fit(x_train, y_train)\n"
   ]
  },
  {
   "cell_type": "code",
   "execution_count": 8,
   "metadata": {},
   "outputs": [
    {
     "name": "stdout",
     "output_type": "stream",
     "text": [
      "0.9866666666666667\n"
     ]
    }
   ],
   "source": [
    "preds = knn_clf.predict(x_test)\n",
    "accuracy = accuracy_score(y_test, preds)\n",
    "print(accuracy)"
   ]
  },
  {
   "cell_type": "code",
   "execution_count": 9,
   "metadata": {},
   "outputs": [
    {
     "data": {
      "text/plain": [
       "(450,)"
      ]
     },
     "execution_count": 9,
     "metadata": {},
     "output_type": "execute_result"
    }
   ],
   "source": [
    "preds.shape"
   ]
  },
  {
   "cell_type": "code",
   "execution_count": 10,
   "metadata": {},
   "outputs": [
    {
     "name": "stdout",
     "output_type": "stream",
     "text": [
      "k=3, accuracy=96.30%\n",
      "k=5, accuracy=97.04%\n",
      "k=7, accuracy=98.52%\n",
      "k=9, accuracy=98.52%\n",
      "k=11, accuracy=98.52%\n",
      "k=13, accuracy=97.78%\n",
      "k=15, accuracy=97.78%\n",
      "k=17, accuracy=97.04%\n",
      "k=19, accuracy=97.04%\n",
      "k=7 achieved highest accuracy of 98.52% on validation data\n"
     ]
    }
   ],
   "source": [
    "# initialize the values of k for our k-Nearest Neighbor classifier along with the\n",
    "# list of accuracies for each value of k\n",
    "kVals = range(3, 20, 2)\n",
    "accuracies = []\n",
    "\n",
    "# take 10% of the training data and use that for validation\n",
    "(x_train, x_val, y_train, y_val) = train_test_split(x_train, y_train, test_size=0.1)#, random_state=84)\n",
    "\n",
    "# loop over kVals\n",
    "for k in kVals:\n",
    "    # train the classifier with the current value of `k`\n",
    "    model = KNeighborsClassifier(n_neighbors=k)\n",
    "    model.fit(x_train, y_train)\n",
    "\n",
    "    # evaluate the model and print the accuracies list\n",
    "    score = model.score(x_val, y_val)\n",
    "    print(\"k=%d, accuracy=%.2f%%\" % (k, score * 100))\n",
    "    accuracies.append(score)\n",
    "\n",
    "# largest accuracy\n",
    "# np.argmax returns the indices of the maximum values along an axis\n",
    "i = np.argmax(accuracies)\n",
    "print(\"k=%d achieved highest accuracy of %.2f%% on validation data\" % (kVals[i],\n",
    "    accuracies[i] * 100))"
   ]
  },
  {
   "cell_type": "code",
   "execution_count": 15,
   "metadata": {},
   "outputs": [
    {
     "data": {
      "text/plain": [
       "[0.03703703703703709,\n",
       " 0.029629629629629672,\n",
       " 0.014814814814814836,\n",
       " 0.014814814814814836,\n",
       " 0.014814814814814836,\n",
       " 0.022222222222222254,\n",
       " 0.022222222222222254,\n",
       " 0.029629629629629672,\n",
       " 0.029629629629629672]"
      ]
     },
     "execution_count": 15,
     "metadata": {},
     "output_type": "execute_result"
    }
   ],
   "source": [
    "errs = [1-acc for acc in accuracies] \n",
    "errs"
   ]
  },
  {
   "cell_type": "code",
   "execution_count": 16,
   "metadata": {},
   "outputs": [
    {
     "data": {
      "text/plain": [
       "Text(0, 0.5, 'Test Error %')"
      ]
     },
     "execution_count": 16,
     "metadata": {},
     "output_type": "execute_result"
    },
    {
     "data": {
      "image/png": "[encoded data removed]",
      "text/plain": [
       "<Figure size 600x400 with 1 Axes>"
      ]
     },
     "metadata": {},
     "output_type": "display_data"
    }
   ],
   "source": [
    "# num_k = np.arange(1, 21)\n",
    "plt.figure(dpi=100)\n",
    "plt.style.use('ggplot')\n",
    "plt.plot(kVals, errs)\n",
    "plt.xlabel('Number of Neihgbors')\n",
    "plt.ylabel('Test Error %')\n",
    "# plt.savefig('err_plot.png')"
   ]
  },
  {
   "cell_type": "code",
   "execution_count": 17,
   "metadata": {},
   "outputs": [
    {
     "name": "stdout",
     "output_type": "stream",
     "text": [
      "EVALUATION ON TESTING DATA\n",
      "              precision    recall  f1-score   support\n",
      "\n",
      "           0       1.00      1.00      1.00        43\n",
      "           1       0.92      1.00      0.96        49\n",
      "           2       1.00      1.00      1.00        35\n",
      "           3       1.00      0.95      0.98        42\n",
      "           4       1.00      0.96      0.98        45\n",
      "           5       0.96      0.96      0.96        51\n",
      "           6       1.00      0.98      0.99        47\n",
      "           7       0.96      1.00      0.98        49\n",
      "           8       0.98      0.93      0.95        44\n",
      "           9       0.96      0.98      0.97        45\n",
      "\n",
      "    accuracy                           0.98       450\n",
      "   macro avg       0.98      0.98      0.98       450\n",
      "weighted avg       0.98      0.98      0.98       450\n",
      "\n"
     ]
    }
   ],
   "source": [
    "# Now that I know the best value of k, re-train the classifier\n",
    "model = KNeighborsClassifier(n_neighbors=kVals[i])\n",
    "model.fit(x_train, y_train)\n",
    "\n",
    "# Predict labels for the test set\n",
    "predictions = model.predict(x_test)\n",
    "\n",
    "# Evaluate performance of model for each of the digits\n",
    "print(\"EVALUATION ON TESTING DATA\")\n",
    "print(classification_report(y_test, predictions))\n"
   ]
  },
  {
   "cell_type": "code",
   "execution_count": null,
   "metadata": {},
   "outputs": [
    {
     "data": {
      "image/png": "[encoded data removed]",
      "text/plain": [
       "<Figure size 432x288 with 9 Axes>"
      ]
     },
     "metadata": {},
     "output_type": "display_data"
    }
   ],
   "source": [
    "# visualize\n",
    "plt.figure\n",
    "for i in range(9):\n",
    "    plt.subplot(3, 3, i+1)\n",
    "    plt.imshow(x_test[i].reshape(8, 8), cmap='gray')\n",
    "    plt.title(predictions[i])\n",
    "    plt.axis('off')\n",
    "    plt.savefig('mnist_plot.png')\n",
    "plt.show()"
   ]
  }
 ],
 "metadata": {
  "anaconda-cloud": {},
  "kernelspec": {
   "display_name": "base",
   "language": "python",
   "name": "python3"
  },
  "language_info": {
   "codemirror_mode": {
    "name": "ipython",
    "version": 3
   },
   "file_extension": ".py",
   "mimetype": "text/x-python",
   "name": "python",
   "nbconvert_exporter": "python",
   "pygments_lexer": "ipython3",
   "version": "3.9.7"
  },
  "vscode": {
   "interpreter": {
    "hash": "ad2bdc8ecc057115af97d19610ffacc2b4e99fae6737bb82f5d7fb13d2f2c186"
   }
  }
 },
 "nbformat": 4,
 "nbformat_minor": 1
}
