{
 "cells": [
  {
   "cell_type": "markdown",
   "metadata": {},
   "source": [
    "https://stackoverflow.com/questions/44635518/association-rules-using-python-with-data-in-sentence-form"
   ]
  },
  {
   "cell_type": "code",
   "execution_count": null,
   "metadata": {},
   "outputs": [],
   "source": [
    "import numpy as np\n",
    "from orangecontrib.text\n",
    "import Corpus, preprocess, vectorization\n",
    "from orangecontrib.associate.fpgrowth import *\n",
    "\n",
    "data = Corpus.from_file(\"deerwester\")\n",
    "p = preprocess.Preprocessor()\n",
    "preproc_corpus = p(data)\n",
    "v = vectorization.bagofwords.BoWPreprocessTransform(p, \"Count\", preproc_corpus)\n",
    "N = 30\n",
    "X = np.random.random((N, 50)) > .9\n",
    "itemsets = dict(frequent_itemsets(X, .1))\n",
    "rules = association_rules(itemsets, .6)\n",
    "list(rules_stats(rules, itemsets, N))"
   ]
  }
 ],
 "metadata": {
  "kernelspec": {
   "display_name": "Python 3",
   "language": "python",
   "name": "python3"
  },
  "language_info": {
   "codemirror_mode": {
    "name": "ipython",
    "version": 3
   },
   "file_extension": ".py",
   "mimetype": "text/x-python",
   "name": "python",
   "nbconvert_exporter": "python",
   "pygments_lexer": "ipython3",
   "version": "3.6.7"
  }
 },
 "nbformat": 4,
 "nbformat_minor": 2
}
