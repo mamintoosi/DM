{
 "cells": [
  {
   "cell_type": "markdown",
   "metadata": {},
   "source": [
    "## M. Amintoosi\n",
    "## کاوش الگوهای پرتکرار\n",
    "\n",
    "استخراج قوانین انجمنی\n",
    "\n",
    "http://rasbt.github.io/mlxtend/user_guide/frequent_patterns/apriori/\n",
    "\n",
    "راهنمای بسته \n",
    "mlxtend:\n",
    "\n",
    "https://sebastianraschka.com/pdf/software/mlxtend-0.6.0.pdf\n",
    "\n",
    "https://pbpython.com/market-basket-analysis.html\n",
    "\n",
    "فعلا مثال کامل نیست."
   ]
  },
  {
   "cell_type": "code",
   "execution_count": 127,
   "metadata": {},
   "outputs": [],
   "source": [
    "import numpy as np  \n",
    "import matplotlib.pyplot as plt  \n",
    "import pandas as pd  \n",
    "from apyori import apriori  "
   ]
  },
  {
   "cell_type": "code",
   "execution_count": 128,
   "metadata": {},
   "outputs": [
    {
     "name": "stderr",
     "output_type": "stream",
     "text": [
      "d:\\ProgramData\\Anaconda3\\envs\\tf_gpu\\lib\\site-packages\\mlxtend\\preprocessing\\onehot.py:66: DeprecationWarning: OnehotTransactions has been deprecated and will be removed in future. Please use TransactionEncoder instead.\n",
      "  warnings.warn(msg, DeprecationWarning)\n"
     ]
    },
    {
     "data": {
      "text/html": [
       "<div>\n",
       "<style scoped>\n",
       "    .dataframe tbody tr th:only-of-type {\n",
       "        vertical-align: middle;\n",
       "    }\n",
       "\n",
       "    .dataframe tbody tr th {\n",
       "        vertical-align: top;\n",
       "    }\n",
       "\n",
       "    .dataframe thead th {\n",
       "        text-align: right;\n",
       "    }\n",
       "</style>\n",
       "<table border=\"1\" class=\"dataframe\">\n",
       "  <thead>\n",
       "    <tr style=\"text-align: right;\">\n",
       "      <th></th>\n",
       "      <th>Apple</th>\n",
       "      <th>Corn</th>\n",
       "      <th>Dill</th>\n",
       "      <th>Eggs</th>\n",
       "      <th>Ice cream</th>\n",
       "      <th>Kidney Beans</th>\n",
       "      <th>Milk</th>\n",
       "      <th>Nutmeg</th>\n",
       "      <th>Onion</th>\n",
       "      <th>Unicorn</th>\n",
       "      <th>Yogurt</th>\n",
       "    </tr>\n",
       "  </thead>\n",
       "  <tbody>\n",
       "    <tr>\n",
       "      <th>0</th>\n",
       "      <td>False</td>\n",
       "      <td>False</td>\n",
       "      <td>False</td>\n",
       "      <td>True</td>\n",
       "      <td>False</td>\n",
       "      <td>True</td>\n",
       "      <td>True</td>\n",
       "      <td>True</td>\n",
       "      <td>True</td>\n",
       "      <td>False</td>\n",
       "      <td>True</td>\n",
       "    </tr>\n",
       "    <tr>\n",
       "      <th>1</th>\n",
       "      <td>False</td>\n",
       "      <td>False</td>\n",
       "      <td>True</td>\n",
       "      <td>True</td>\n",
       "      <td>False</td>\n",
       "      <td>True</td>\n",
       "      <td>False</td>\n",
       "      <td>True</td>\n",
       "      <td>True</td>\n",
       "      <td>False</td>\n",
       "      <td>True</td>\n",
       "    </tr>\n",
       "    <tr>\n",
       "      <th>2</th>\n",
       "      <td>True</td>\n",
       "      <td>False</td>\n",
       "      <td>False</td>\n",
       "      <td>True</td>\n",
       "      <td>False</td>\n",
       "      <td>True</td>\n",
       "      <td>True</td>\n",
       "      <td>False</td>\n",
       "      <td>False</td>\n",
       "      <td>False</td>\n",
       "      <td>False</td>\n",
       "    </tr>\n",
       "    <tr>\n",
       "      <th>3</th>\n",
       "      <td>False</td>\n",
       "      <td>True</td>\n",
       "      <td>False</td>\n",
       "      <td>False</td>\n",
       "      <td>False</td>\n",
       "      <td>True</td>\n",
       "      <td>True</td>\n",
       "      <td>False</td>\n",
       "      <td>False</td>\n",
       "      <td>True</td>\n",
       "      <td>True</td>\n",
       "    </tr>\n",
       "    <tr>\n",
       "      <th>4</th>\n",
       "      <td>False</td>\n",
       "      <td>True</td>\n",
       "      <td>False</td>\n",
       "      <td>True</td>\n",
       "      <td>True</td>\n",
       "      <td>True</td>\n",
       "      <td>False</td>\n",
       "      <td>False</td>\n",
       "      <td>True</td>\n",
       "      <td>False</td>\n",
       "      <td>True</td>\n",
       "    </tr>\n",
       "  </tbody>\n",
       "</table>\n",
       "</div>"
      ],
      "text/plain": [
       "   Apple   Corn   Dill   Eggs  Ice cream  Kidney Beans   Milk  Nutmeg  Onion  \\\n",
       "0  False  False  False   True      False          True   True    True   True   \n",
       "1  False  False   True   True      False          True  False    True   True   \n",
       "2   True  False  False   True      False          True   True   False  False   \n",
       "3  False   True  False  False      False          True   True   False  False   \n",
       "4  False   True  False   True       True          True  False   False   True   \n",
       "\n",
       "   Unicorn  Yogurt  \n",
       "0    False    True  \n",
       "1    False    True  \n",
       "2    False   False  \n",
       "3     True    True  \n",
       "4    False    True  "
      ]
     },
     "execution_count": 128,
     "metadata": {},
     "output_type": "execute_result"
    }
   ],
   "source": [
    "dataset = [['Milk', 'Onion', 'Nutmeg', 'Kidney Beans', 'Eggs', 'Yogurt'],\n",
    "           ['Dill', 'Onion', 'Nutmeg', 'Kidney Beans', 'Eggs', 'Yogurt'],\n",
    "           ['Milk', 'Apple', 'Kidney Beans', 'Eggs'],\n",
    "           ['Milk', 'Unicorn', 'Corn', 'Kidney Beans', 'Yogurt'],\n",
    "           ['Corn', 'Onion', 'Kidney Beans', 'Ice cream', 'Eggs', 'Yogurt']]\n",
    "\n",
    "from mlxtend.preprocessing import OnehotTransactions\n",
    "oht = OnehotTransactions()\n",
    "oht_ary = oht.fit(dataset).transform(dataset)\n",
    "df = pd.DataFrame(oht_ary, columns=oht.columns_)\n",
    "df"
   ]
  },
  {
   "cell_type": "code",
   "execution_count": 165,
   "metadata": {},
   "outputs": [
    {
     "data": {
      "text/plain": [
       "<generator object apriori at 0x000002A4F01660F8>"
      ]
     },
     "execution_count": 165,
     "metadata": {},
     "output_type": "execute_result"
    }
   ],
   "source": [
    "frequent_itemsets = apriori(df, min_support=0.2, use_colnames=False)\n",
    "frequent_itemsets"
   ]
  },
  {
   "cell_type": "code",
   "execution_count": 166,
   "metadata": {},
   "outputs": [
    {
     "name": "stdout",
     "output_type": "stream",
     "text": [
      "RelationRecord(items=frozenset({'e'}), support=0.36363636363636365, ordered_statistics=[OrderedStatistic(items_base=frozenset(), items_add=frozenset({'e'}), confidence=0.36363636363636365, lift=1.0)])\n",
      "RelationRecord(items=frozenset({'g'}), support=0.2727272727272727, ordered_statistics=[OrderedStatistic(items_base=frozenset(), items_add=frozenset({'g'}), confidence=0.2727272727272727, lift=1.0)])\n",
      "RelationRecord(items=frozenset({'i'}), support=0.45454545454545453, ordered_statistics=[OrderedStatistic(items_base=frozenset(), items_add=frozenset({'i'}), confidence=0.45454545454545453, lift=1.0)])\n",
      "RelationRecord(items=frozenset({'l'}), support=0.2727272727272727, ordered_statistics=[OrderedStatistic(items_base=frozenset(), items_add=frozenset({'l'}), confidence=0.2727272727272727, lift=1.0)])\n",
      "RelationRecord(items=frozenset({'n'}), support=0.36363636363636365, ordered_statistics=[OrderedStatistic(items_base=frozenset(), items_add=frozenset({'n'}), confidence=0.36363636363636365, lift=1.0)])\n",
      "RelationRecord(items=frozenset({'o'}), support=0.36363636363636365, ordered_statistics=[OrderedStatistic(items_base=frozenset(), items_add=frozenset({'o'}), confidence=0.36363636363636365, lift=1.0)])\n",
      "RelationRecord(items=frozenset({'r'}), support=0.36363636363636365, ordered_statistics=[OrderedStatistic(items_base=frozenset(), items_add=frozenset({'r'}), confidence=0.36363636363636365, lift=1.0)])\n",
      "RelationRecord(items=frozenset({'n', 'i'}), support=0.2727272727272727, ordered_statistics=[OrderedStatistic(items_base=frozenset({'i'}), items_add=frozenset({'n'}), confidence=0.6, lift=1.65), OrderedStatistic(items_base=frozenset({'n'}), items_add=frozenset({'i'}), confidence=0.7499999999999999, lift=1.65)])\n",
      "RelationRecord(items=frozenset({'n', 'o'}), support=0.2727272727272727, ordered_statistics=[OrderedStatistic(items_base=frozenset({'n'}), items_add=frozenset({'o'}), confidence=0.7499999999999999, lift=2.0624999999999996), OrderedStatistic(items_base=frozenset({'o'}), items_add=frozenset({'n'}), confidence=0.7499999999999999, lift=2.0624999999999996)])\n",
      "RelationRecord(items=frozenset({'r', 'o'}), support=0.2727272727272727, ordered_statistics=[OrderedStatistic(items_base=frozenset({'o'}), items_add=frozenset({'r'}), confidence=0.7499999999999999, lift=2.0624999999999996), OrderedStatistic(items_base=frozenset({'r'}), items_add=frozenset({'o'}), confidence=0.7499999999999999, lift=2.0624999999999996)])\n"
     ]
    }
   ],
   "source": [
    "# عجیبه: در دفعه دوم اجرا، خروجی نداریم!\n",
    "# بجای عناوین ستونها فقط حروف الفبا داریم!\n",
    "for fitem in frequent_itemsets:\n",
    "    print(fitem)"
   ]
  },
  {
   "cell_type": "code",
   "execution_count": 157,
   "metadata": {},
   "outputs": [],
   "source": [
    "minNumX = 1 # antecedent (items_base) and \n",
    "minNumY = 1 # consequent (items_add)\n",
    "for item in frequent_itemsets:#association_results:\n",
    "    # تکرار به تعداد قوانین موجود در آیتم\n",
    "    for i in range(len(item[2])):\n",
    "        if len(item[2][i][0]) < minNumX:\n",
    "            continue\n",
    "        if len(item[2][i][1]) < minNumY:\n",
    "            continue\n",
    "        set_items=[item[2][i][0]]\n",
    "        Xitems = str([list(x) for x in set_items])\n",
    "        set_items=[item[2][i][1]]\n",
    "        Yitems = str([list(x) for x in set_items])\n",
    "        print(\"Rule: \" + Xitems + \" -> \" + Yitems)\n",
    "\n",
    "        #second index of the inner list\n",
    "        print(\"Support: \" + str(item[1]))\n",
    "\n",
    "        #third index of the list located at 0th\n",
    "        #of the third index of the inner list\n",
    "\n",
    "        print(\"Confidence: \" + str(item[2][i][2]))\n",
    "        print(\"Lift: \" + str(item[2][i][3]))\n",
    "        print(\"================\")\n",
    "    print(\"=====================================\")"
   ]
  },
  {
   "cell_type": "code",
   "execution_count": 133,
   "metadata": {},
   "outputs": [
    {
     "ename": "TypeError",
     "evalue": "'generator' object is not callable",
     "output_type": "error",
     "traceback": [
      "\u001b[1;31m---------------------------------------------------------------------------\u001b[0m",
      "\u001b[1;31mTypeError\u001b[0m                                 Traceback (most recent call last)",
      "\u001b[1;32m<ipython-input-133-37da4f048cc7>\u001b[0m in \u001b[0;36m<module>\u001b[1;34m\u001b[0m\n\u001b[1;32m----> 1\u001b[1;33m \u001b[0mrules\u001b[0m \u001b[1;33m=\u001b[0m \u001b[0massociation_rules\u001b[0m\u001b[1;33m(\u001b[0m\u001b[0mfrequent_itemsets\u001b[0m\u001b[1;33m,\u001b[0m \u001b[0mmetric\u001b[0m\u001b[1;33m=\u001b[0m\u001b[1;34m\"lift\"\u001b[0m\u001b[1;33m,\u001b[0m \u001b[0mmin_threshold\u001b[0m\u001b[1;33m=\u001b[0m\u001b[1;36m1\u001b[0m\u001b[1;33m)\u001b[0m\u001b[1;33m\u001b[0m\u001b[1;33m\u001b[0m\u001b[0m\n\u001b[0m",
      "\u001b[1;31mTypeError\u001b[0m: 'generator' object is not callable"
     ]
    }
   ],
   "source": [
    "rules = association_rules(frequent_itemsets, metric=\"lift\", min_threshold=1)"
   ]
  },
  {
   "cell_type": "code",
   "execution_count": null,
   "metadata": {},
   "outputs": [],
   "source": [
    "frequent_itemsets['length'] = frequent_itemsets['itemsets'].apply(lambda x: len(x))\n",
    "frequent_itemsets "
   ]
  },
  {
   "cell_type": "code",
   "execution_count": null,
   "metadata": {},
   "outputs": [],
   "source": [
    "rules = association_rules(frequent_itemsets, metric=\"lift\", min_threshold=1.2)\n",
    "rules"
   ]
  },
  {
   "cell_type": "code",
   "execution_count": null,
   "metadata": {},
   "outputs": [],
   "source": [
    "res_df = apriori(df, min_support=0.6)\n",
    "expect = pd.DataFrame([[0.8, np.array([3]), 1],\n",
    "                       [1.0, np.array([5]), 1],\n",
    "                       [0.6, np.array([6]), 1],\n",
    "                       [0.6, np.array([8]), 1],\n",
    "                       [0.6, np.array([10]), 1],\n",
    "                       [0.8, np.array([3, 5]), 2],\n",
    "                       [0.6, np.array([3, 8]), 2],\n",
    "                       [0.6, np.array([5, 6]), 2],\n",
    "                       [0.6, np.array([5, 8]), 2],\n",
    "                       [0.6, np.array([5, 10]), 2],\n",
    "                       [0.6, np.array([3, 5, 8]), 3]],\n",
    "                      columns=['support', 'itemsets', 'length'])\n",
    "\n",
    "for a, b in zip(res_df, expect):\n",
    "    assert_array_equal(a, b)"
   ]
  },
  {
   "cell_type": "code",
   "execution_count": null,
   "metadata": {},
   "outputs": [],
   "source": []
  }
 ],
 "metadata": {
  "kernelspec": {
   "display_name": "Python 3",
   "language": "python",
   "name": "python3"
  },
  "language_info": {
   "codemirror_mode": {
    "name": "ipython",
    "version": 3
   },
   "file_extension": ".py",
   "mimetype": "text/x-python",
   "name": "python",
   "nbconvert_exporter": "python",
   "pygments_lexer": "ipython3",
   "version": "3.6.7"
  }
 },
 "nbformat": 4,
 "nbformat_minor": 2
}
