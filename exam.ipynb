{
 "cells": [
  {
   "attachments": {},
   "cell_type": "markdown",
   "metadata": {},
   "source": [
    "In this Python exercise, you are tasked with implementing k-nearest neighbors (KNN) classification for hand-written MNIST data. Here are the steps you should follow:\n",
    "\n",
    "- Download the [hand-written MNIST data](http://yann.lecun.com/exdb/mnist/), which is represented as 28x28 pixel images.\n",
    "    + Download only train data. \n",
    "- Read 10000 digit images, using the method explained in [SE](https://stackoverflow.com/questions/40427435/extract-images-from-idx3-ubyte-file-or-gzip-via-python/53570674#53570674), See the answer with 56 votes\n",
    "- Display a few examples of the digits to get a sense of the data. See the aforementioned answer in [SE](https://stackoverflow.com/questions/40427435/extract-images-from-idx3-ubyte-file-or-gzip-via-python/53570674#53570674) \n",
    "- Split the train data into training and testing sets, using sklearn's train_test_split.\n",
    "- Implement KNN classification on the training set (KNeighborsClassifier).\n",
    "- Compute and print the accuracy on test set using accuracy_score\n",
    "- Print out the confusion matrix for the results.\n",
    "- Determine which digit has the highest accuracy on the test set using CM matrix.\n",
    "- Draw a sample digit in your Paint program and classify it.\n",
    "\n",
    "Please ensure that your implementation makes use of appropriate libraries and adheres to best practices in coding.\n",
    "\n",
    "Good Lock,\n",
    "\n",
    "Mahmood Amintoosi"
   ]
  },
  {
   "attachments": {},
   "cell_type": "markdown",
   "metadata": {},
   "source": [
    "Please write down your name, here:\n"
   ]
  },
  {
   "cell_type": "code",
   "execution_count": 1,
   "metadata": {},
   "outputs": [],
   "source": [
    "import matplotlib.pyplot as plt\n",
    "import numpy as np\n",
    "import pandas as pd\n",
    "import seaborn as sns\n",
    "\n",
    "from sklearn import datasets\n",
    "from sklearn.model_selection import train_test_split, KFold\n",
    "from sklearn.preprocessing import Normalizer\n",
    "from sklearn.metrics import accuracy_score\n",
    "from sklearn.neighbors import KNeighborsClassifier"
   ]
  },
  {
   "cell_type": "code",
   "execution_count": 2,
   "metadata": {},
   "outputs": [],
   "source": [
    "import gzip\n",
    "f = gzip.open(?,'r')\n",
    "\n",
    "image_size = 28\n",
    "num_images = 10000\n",
    "\n",
    "import numpy as np\n",
    "f.read(16)\n",
    "buf = f.read(image_size * image_size * num_images)\n",
    "data = np.frombuffer(buf, dtype=np.uint8).astype(np.float32)\n",
    "X =  #?\n",
    "images = #?"
   ]
  },
  {
   "cell_type": "code",
   "execution_count": 21,
   "metadata": {},
   "outputs": [],
   "source": [
    "X.shape, images.shape"
   ]
  },
  {
   "cell_type": "code",
   "execution_count": 5,
   "metadata": {},
   "outputs": [
    {
     "data": {
      "image/png": "[encoded data removed]",
      "text/plain": [
       "<Figure size 432x288 with 1 Axes>"
      ]
     },
     "metadata": {
      "needs_background": "light"
     },
     "output_type": "display_data"
    }
   ],
   "source": [
    "import matplotlib.pyplot as plt\n",
    "image = #?\n",
    "plt.imshow(image)\n",
    "plt.show()"
   ]
  },
  {
   "cell_type": "code",
   "execution_count": 7,
   "metadata": {},
   "outputs": [
    {
     "data": {
      "text/plain": [
       "10000"
      ]
     },
     "execution_count": 7,
     "metadata": {},
     "output_type": "execute_result"
    }
   ],
   "source": [
    "f = gzip.open(?,'r')\n",
    "f.read(8)\n",
    "buf = #?\n",
    "y = #?\n",
    "len(y)"
   ]
  },
  {
   "cell_type": "code",
   "execution_count": 9,
   "metadata": {},
   "outputs": [],
   "source": [
    "# split the data into train and test sets\n",
    "X_train, X_test, y_train, y_test = train_test_split(?, test_size=0.2)"
   ]
  },
  {
   "cell_type": "code",
   "execution_count": 22,
   "metadata": {},
   "outputs": [],
   "source": [
    "X_train.shape, X_test.shape, y_train.shape, y_test.shape"
   ]
  },
  {
   "cell_type": "code",
   "execution_count": 11,
   "metadata": {},
   "outputs": [
    {
     "name": "stdout",
     "output_type": "stream",
     "text": [
      "0.9455\n"
     ]
    }
   ],
   "source": [
    "# KNN classification on the training set\n",
    "K = 3\n",
    "????\n",
    "print(accuracy)"
   ]
  },
  {
   "cell_type": "code",
   "execution_count": 12,
   "metadata": {},
   "outputs": [
    {
     "name": "stdout",
     "output_type": "stream",
     "text": [
      "[[191   1   0   2   0   0   0   0   0   0]\n",
      " [  0 245   1   0   0   0   0   0   1   0]\n",
      " [  4   6 193   1   0   0   0   0   0   0]\n",
      " [  0   2   0 190   0   4   0   1   1   1]\n",
      " [  0   5   0   0 199   0   0   0   0   9]\n",
      " [  0   2   0   3   0 157   4   0   1   2]\n",
      " [  4   1   0   0   0   2 173   0   0   0]\n",
      " [  0   6   1   1   2   0   0 219   0   5]\n",
      " [  2   4   4   6   2   3   0   0 161   3]\n",
      " [  4   0   0   3   3   0   0   2   0 163]]\n"
     ]
    }
   ],
   "source": [
    "# print out the confusion matrix\n",
    "cm = ?\n",
    "print(cm)"
   ]
  },
  {
   "cell_type": "code",
   "execution_count": 13,
   "metadata": {},
   "outputs": [
    {
     "name": "stdout",
     "output_type": "stream",
     "text": [
      "1\n"
     ]
    }
   ],
   "source": [
    "# Determine which digit has the highest accuracy on the test set using CM matrix\n",
    "?\n",
    "print(?)"
   ]
  },
  {
   "cell_type": "code",
   "execution_count": 17,
   "metadata": {},
   "outputs": [
    {
     "data": {
      "image/png": "[encoded data removed]",
      "text/plain": [
       "<Figure size 432x288 with 1 Axes>"
      ]
     },
     "metadata": {
      "needs_background": "light"
     },
     "output_type": "display_data"
    }
   ],
   "source": [
    "# Read your test sample digit in your Paint program and classify it\n",
    "from PIL import Image\n",
    "\n",
    "# Open the input image file\n",
    "???\n",
    "\n",
    "plt.imshow(resized_img)\n",
    "plt.show()"
   ]
  },
  {
   "cell_type": "code",
   "execution_count": 20,
   "metadata": {},
   "outputs": [
    {
     "data": {
      "text/plain": [
       "array([5], dtype=int64)"
      ]
     },
     "execution_count": 20,
     "metadata": {},
     "output_type": "execute_result"
    }
   ],
   "source": [
    "?? \n",
    "y_pred = knn predict ??\n",
    "y_pred"
   ]
  }
 ],
 "metadata": {
  "kernelspec": {
   "display_name": "pth",
   "language": "python",
   "name": "python3"
  },
  "language_info": {
   "codemirror_mode": {
    "name": "ipython",
    "version": 3
   },
   "file_extension": ".py",
   "mimetype": "text/x-python",
   "name": "python",
   "nbconvert_exporter": "python",
   "pygments_lexer": "ipython3",
   "version": "3.7.11"
  },
  "orig_nbformat": 4
 },
 "nbformat": 4,
 "nbformat_minor": 2
}
